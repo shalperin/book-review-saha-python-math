{
 "cells": [
  {
   "cell_type": "markdown",
   "metadata": {},
   "source": [
    "SymPy Imports and Math Imports"
   ]
  },
  {
   "cell_type": "code",
   "execution_count": 1,
   "metadata": {
    "collapsed": true
   },
   "outputs": [],
   "source": [
    "import math\n",
    "from sympy import *"
   ]
  },
  {
   "cell_type": "markdown",
   "metadata": {},
   "source": [
    "# Functions\n",
    "Sin function using math library"
   ]
  },
  {
   "cell_type": "code",
   "execution_count": 2,
   "metadata": {
    "collapsed": false
   },
   "outputs": [
    {
     "data": {
      "text/plain": [
       "1.0"
      ]
     },
     "execution_count": 2,
     "metadata": {},
     "output_type": "execute_result"
    }
   ],
   "source": [
    "math.sin(math.pi/2)"
   ]
  },
  {
   "cell_type": "markdown",
   "metadata": {},
   "source": [
    "Sin function using SymPy"
   ]
  },
  {
   "cell_type": "code",
   "execution_count": 3,
   "metadata": {
    "collapsed": false
   },
   "outputs": [
    {
     "data": {
      "text/plain": [
       "1.00000000000000"
      ]
     },
     "execution_count": 3,
     "metadata": {},
     "output_type": "execute_result"
    }
   ],
   "source": [
    "sin(math.pi/2)"
   ]
  },
  {
   "cell_type": "markdown",
   "metadata": {},
   "source": [
    "# Solving Functions\n",
    "** Movement of a projectile **\n",
    "![](img/projectile.png)\n",
    "Solve for t in the equation for a projectile\n",
    "+ u : initial velocity\n",
    "+ g : acceleration due to gravity\n",
    "+ t : time"
   ]
  },
  {
   "cell_type": "code",
   "execution_count": 4,
   "metadata": {
    "collapsed": false
   },
   "outputs": [
    {
     "name": "stdout",
     "output_type": "stream",
     "text": [
      "t = [u*sin(theta)/g]\n"
     ]
    }
   ],
   "source": [
    "theta = Symbol('theta')\n",
    "u = Symbol('u')\n",
    "t = Symbol('t')\n",
    "g = Symbol('g')\n",
    "print \"t = {}\".format(solve( u* sin( theta)/g * t, t))"
   ]
  },
  {
   "cell_type": "code",
   "execution_count": 5,
   "metadata": {
    "collapsed": false
   },
   "outputs": [
    {
     "name": "stdout",
     "output_type": "stream",
     "text": [
      "True\n"
     ]
    }
   ],
   "source": [
    "x = Symbol('x', positive=True)\n",
    "if (x + 5) > 0:\n",
    "    print True\n",
    "else:\n",
    "    print False"
   ]
  },
  {
   "cell_type": "markdown",
   "metadata": {},
   "source": [
    "# Limits\n",
    "![image](img/fig7-2.png)"
   ]
  },
  {
   "cell_type": "code",
   "execution_count": 6,
   "metadata": {
    "collapsed": false
   },
   "outputs": [
    {
     "data": {
      "text/plain": [
       "0"
      ]
     },
     "execution_count": 6,
     "metadata": {},
     "output_type": "execute_result"
    }
   ],
   "source": [
    "x = Symbol('x')\n",
    "l =  Limit(1/x, x, S.Infinity)\n",
    "l.doit()"
   ]
  },
  {
   "cell_type": "code",
   "execution_count": 7,
   "metadata": {
    "collapsed": false
   },
   "outputs": [
    {
     "data": {
      "text/plain": [
       "oo"
      ]
     },
     "execution_count": 7,
     "metadata": {},
     "output_type": "execute_result"
    }
   ],
   "source": [
    "l = Limit(1/x, x, 0)\n",
    "l.doit()"
   ]
  },
  {
   "cell_type": "code",
   "execution_count": 8,
   "metadata": {
    "collapsed": false,
    "scrolled": true
   },
   "outputs": [
    {
     "data": {
      "text/plain": [
       "1"
      ]
     },
     "execution_count": 8,
     "metadata": {},
     "output_type": "execute_result"
    }
   ],
   "source": [
    "Limit( sin( x)/ x, x, 0). doit()"
   ]
  },
  {
   "cell_type": "markdown",
   "metadata": {},
   "source": [
    "\n",
    "**Compound Intereste**\n",
    "\n",
    "Evaluate the limit of compound interest as n (the number of times it is recomputed) goes to infinity.\n",
    "\n",
    "![](img/compound_interest_graph.png)\n",
    "![](img/compound_interest.png)\n",
    "\n",
    "+ p : principle\n",
    "+ r : rate\n",
    "+ t : time\n",
    "+ n : number of computation intervals (365 = daily?)"
   ]
  },
  {
   "cell_type": "code",
   "execution_count": 9,
   "metadata": {
    "collapsed": false
   },
   "outputs": [
    {
     "data": {
      "text/plain": [
       "p*exp(r*t)"
      ]
     },
     "execution_count": 9,
     "metadata": {},
     "output_type": "execute_result"
    }
   ],
   "source": [
    "p = Symbol('p', positive=True)\n",
    "r = Symbol('r', positive=True)\n",
    "t = Symbol('t', positive=True)\n",
    "n = Symbol('n', positive=True)\n",
    "Limit( p*( 1 + r/ n)**( n* t), n, S.Infinity). doit() "
   ]
  },
  {
   "cell_type": "markdown",
   "metadata": {},
   "source": [
    "** Instantaneous Rate of Change **\n",
    "![](img/moving_body.png)\n",
    "\n",
    "A car accelerating uniformly down a road:\n",
    "+ S(t) : position\n",
    "+ Typically written as S(t) = S(t_0) + 1/2a*t^2\n",
    "+ So in this example A=10m/s/s, S(t_0) = 8m, V0 = 2\n",
    "![](img/roc1.png)\n",
    "\n",
    "+ Distance moved between t1 and t2\n",
    "![](img/roc2.png)\n",
    "\n",
    "+ Re-written in terms of delta t\n",
    "![](img/roc3.png)\n",
    "\n",
    "+ As delta t becomes infintesimally small...\n",
    "![](img/roc4.png)\n",
    "\n",
    "\n"
   ]
  },
  {
   "cell_type": "code",
   "execution_count": 10,
   "metadata": {
    "collapsed": false
   },
   "outputs": [
    {
     "data": {
      "text/plain": [
       "10*t1 + 2"
      ]
     },
     "execution_count": 10,
     "metadata": {},
     "output_type": "execute_result"
    }
   ],
   "source": [
    "t = Symbol('t')\n",
    "St = 5* t**2 + 2*t + 8\n",
    "t1 = Symbol('t1')\n",
    "delta_t = Symbol('delta_t')\n",
    "St1 = St.subs({t: t1})\n",
    "St1_delta = St.subs({ t: t1 + delta_t})\n",
    "Limit(( St1_delta-St1)/ delta_t, delta_t, 0).doit()"
   ]
  },
  {
   "cell_type": "markdown",
   "metadata": {},
   "source": [
    "This is the \"instantaneous speed\" of the car (velocity) at t1 (AKA the first derivative)"
   ]
  },
  {
   "cell_type": "markdown",
   "metadata": {},
   "source": [
    "# Derivatives\n",
    "Calculating the derivative of a function without manipulating it into delta_t yields the same result."
   ]
  },
  {
   "cell_type": "code",
   "execution_count": 11,
   "metadata": {
    "collapsed": false
   },
   "outputs": [
    {
     "data": {
      "text/plain": [
       "10* t + 2"
      ]
     },
     "execution_count": 11,
     "metadata": {},
     "output_type": "execute_result"
    }
   ],
   "source": [
    "t = Symbol(' t')\n",
    "St = 5* t**2 + 2*t + 8\n",
    "Derivative(St, t).doit()\n"
   ]
  },
  {
   "cell_type": "code",
   "execution_count": 12,
   "metadata": {
    "collapsed": false
   },
   "outputs": [
    {
     "name": "stdout",
     "output_type": "stream",
     "text": [
      "velocity @t=0 = 2\n",
      "velocity @t=1 = 12\n",
      "velocity @t=2 = 22\n",
      "velocity @t=3 = 32\n",
      "velocity @t=4 = 42\n",
      "velocity @t=5 = 52\n",
      "velocity @t=6 = 62\n",
      "velocity @t=7 = 72\n",
      "velocity @t=8 = 82\n",
      "velocity @t=9 = 92\n"
     ]
    }
   ],
   "source": [
    "for tt in range(10):\n",
    "    print(\"velocity @t={} = {}\".format(tt, Derivative(St, t).doit().subs({t:tt})))\n"
   ]
  },
  {
   "cell_type": "markdown",
   "metadata": {},
   "source": [
    "![](img/partial_deriv.png)\n"
   ]
  },
  {
   "cell_type": "code",
   "execution_count": 13,
   "metadata": {
    "collapsed": false
   },
   "outputs": [
    {
     "data": {
      "text/plain": [
       "y**2 + 2*y"
      ]
     },
     "execution_count": 13,
     "metadata": {},
     "output_type": "execute_result"
    }
   ],
   "source": [
    "x = Symbol('x')\n",
    "y = Symbol('y')\n",
    "Fxy = 2*x*y + x*y**2\n",
    "Derivative(Fxy, x).doit()"
   ]
  },
  {
   "cell_type": "markdown",
   "metadata": {},
   "source": [
    "# Second Derivative\n",
    "![](img/higher_order_deriv_graph.png)\n",
    "\n",
    "\n",
    "Extrema: A local or global minimum or maximum.  f'(x) = 0 (first derivative equals 0)\n"
   ]
  },
  {
   "cell_type": "code",
   "execution_count": 14,
   "metadata": {
    "collapsed": false
   },
   "outputs": [
    {
     "name": "stdout",
     "output_type": "stream",
     "text": [
      "5*x**4 - 90*x**2 + 50\n",
      "[-sqrt(-sqrt(71) + 9), sqrt(-sqrt(71) + 9), -sqrt(sqrt(71) + 9), sqrt(sqrt(71) + 9)]\n"
     ]
    }
   ],
   "source": [
    "x = Symbol('x')\n",
    "f = x** 5 - 30* x** 3 + 50* x\n",
    "d1 = Derivative( f, x). doit()\n",
    "print d1\n",
    "critical_points = solve(d1)\n",
    "print critical_points\n",
    "\n",
    "# assign to labeled points in the graph above\n",
    "A = critical_points[2]\n",
    "B = critical_points[0]\n",
    "C = critical_points[1]\n",
    "D = critical_points[3]\n"
   ]
  },
  {
   "cell_type": "code",
   "execution_count": 15,
   "metadata": {
    "collapsed": false
   },
   "outputs": [
    {
     "name": "stdout",
     "output_type": "stream",
     "text": [
      "20*x*(x**2 - 9)\n"
     ]
    }
   ],
   "source": [
    "#calculate the second order derivative of f\n",
    "d2 = Derivative(f, x, 2).doit()\n",
    "print d2"
   ]
  },
  {
   "cell_type": "code",
   "execution_count": 16,
   "metadata": {
    "collapsed": false
   },
   "outputs": [
    {
     "name": "stdout",
     "output_type": "stream",
     "text": [
      "A -703.493179468151 negative second derivative indicates local maximum\n",
      "B 127.661060789073 positive...minimum\n",
      "C -127.661060789073 negative...maximum\n",
      "D 703.493179468151 positive...minimum\n"
     ]
    }
   ],
   "source": [
    "print \"A\", d2.subs({x:A}).evalf(), \"negative second derivative indicates local maximum\"\n",
    "print \"B\", d2.subs({x:B}).evalf(), \"positive...minimum\"\n",
    "print \"C\", d2.subs({x:C}).evalf(), \"negative...maximum\"\n",
    "print \"D\", d2.subs({x:D}).evalf(), \"positive...minimum\"\n",
    "\n"
   ]
  },
  {
   "cell_type": "code",
   "execution_count": 17,
   "metadata": {
    "collapsed": false
   },
   "outputs": [
    {
     "name": "stdout",
     "output_type": "stream",
     "text": [
      "f(x) @ A 705.959460380365\n",
      "f(x) @ B -25.0846626340294\n",
      "f(x) @ C 25.0846626340294\n",
      "f(x) @ D -705.959460380365\n",
      "f(x) @ x_min 375.000000000000\n",
      "f(x) @ x_max -375.000000000000\n"
     ]
    }
   ],
   "source": [
    "x_min = -5\n",
    "x_max = 5\n",
    "print \"f(x) @ A\", f.subs({x:A}).evalf()\n",
    "print \"f(x) @ B\", f.subs({x:B}).evalf()\n",
    "print \"f(x) @ C\", f.subs({x:C}).evalf()\n",
    "print \"f(x) @ D\", f.subs({x:D}).evalf()\n",
    "print \"f(x) @ x_min\", f.subs({x:x_min}).evalf()\n",
    "print \"f(x) @ x_max\", f.subs({x:x_max}).evalf()\n"
   ]
  },
  {
   "cell_type": "markdown",
   "metadata": {},
   "source": [
    "# Gradient Ascent\n",
    "What is the best angle to throw a ball at for the max distance?\n",
    "![](img/gradient_ascent_graph.png)\n",
    "![](img/gradient_ascent_formula.png)\n",
    "+ lambda: step size\n",
    "+ We expect the ball to go the farthest when thrown at a 45 degree angle."
   ]
  },
  {
   "cell_type": "code",
   "execution_count": 18,
   "metadata": {
    "collapsed": false
   },
   "outputs": [],
   "source": [
    "def grad_ascent(x0, f1x, x):\n",
    "    epsilon = 1e-6\n",
    "    step_size = 1e-4\n",
    "    x_old = x0\n",
    "    x_new = x_old + step_size* f1x.subs({ x:x_old}).evalf()\n",
    "    while abs( x_old - x_new) > epsilon:\n",
    "        x_old = x_new\n",
    "        x_new = x_old + step_size* f1x.subs({ x:x_old}). evalf()\n",
    "    return x_new\n",
    "\n",
    "def find_max_theta(R, theta):\n",
    "    r1theta = Derivative(R, theta).doit()\n",
    "    theta0 = 1e-3\n",
    "    theta_max = grad_ascent(theta0, r1theta, theta)\n",
    "    return theta_max\n"
   ]
  },
  {
   "cell_type": "markdown",
   "metadata": {},
   "source": [
    "**Compute theta at a local max of this function using gradient ascent starting at value .001**\n",
    "![](img/thrown_ball.png)"
   ]
  },
  {
   "cell_type": "code",
   "execution_count": 19,
   "metadata": {
    "collapsed": false
   },
   "outputs": [
    {
     "name": "stdout",
     "output_type": "stream",
     "text": [
      "Theta: 44.9978150817\n",
      "Maximum Range: 63.7755100185965\n"
     ]
    }
   ],
   "source": [
    "g = 9.8\n",
    "#assume initial velocity\n",
    "u = 25\n",
    "theta = Symbol('theta')\n",
    "R = u** 2* sin( 2* theta)/ g\n",
    "theta_max = find_max_theta(R, theta)\n",
    "print('Theta: {}'.format(math.degrees(theta_max)))\n",
    "print('Maximum Range: {}'.format(R.subs({theta:theta_max})))\n"
   ]
  },
  {
   "cell_type": "markdown",
   "metadata": {
    "collapsed": true
   },
   "source": [
    "# Integration\n",
    "\n",
    "Area under this line\n",
    "![](img/line_graph.png)"
   ]
  },
  {
   "cell_type": "code",
   "execution_count": 20,
   "metadata": {
    "collapsed": false
   },
   "outputs": [
    {
     "data": {
      "text/plain": [
       "k*x**2/2"
      ]
     },
     "execution_count": 20,
     "metadata": {},
     "output_type": "execute_result"
    }
   ],
   "source": [
    "x = Symbol('x')\n",
    "k = Symbol('k') #a constant\n",
    "Integral(k, x, x).doit()"
   ]
  },
  {
   "cell_type": "markdown",
   "metadata": {},
   "source": [
    "![](img/definite_integral.png)"
   ]
  },
  {
   "cell_type": "code",
   "execution_count": 21,
   "metadata": {
    "collapsed": false
   },
   "outputs": [
    {
     "data": {
      "text/plain": [
       "2*k"
      ]
     },
     "execution_count": 21,
     "metadata": {},
     "output_type": "execute_result"
    }
   ],
   "source": [
    "Integral(k, x, (x, 0, 2)).doit() #definite integral on the interval [0,2]"
   ]
  },
  {
   "cell_type": "markdown",
   "metadata": {},
   "source": [
    "** Example, Probability density function **\n",
    "![](img/prob_density_fn.png)\n",
    "\n",
    "What we want to know is the probability for a grade in a range (say [11, 12])\n",
    "![](img/prob_density_equation.png)\n",
    "+ E : set of all grades possible between 11 and 12\n",
    "+ S : set of all possible grades Real[1..20]\n",
    "\n",
    "The probability function used in the curve above is:\n",
    "![](img/prob_density_fn_real.png)\n",
    "+ x: grade obtained\n",
    "\n",
    "To do this use integration\n",
    "![](img/prob_density_integration.png)\n",
    "\n"
   ]
  },
  {
   "cell_type": "code",
   "execution_count": 22,
   "metadata": {
    "collapsed": false
   },
   "outputs": [
    {
     "data": {
      "text/plain": [
       "0.135905121983278"
      ]
     },
     "execution_count": 22,
     "metadata": {},
     "output_type": "execute_result"
    }
   ],
   "source": [
    "GRADE_RANGE_LOW = 11\n",
    "GRADE_RANGE_HIGH = 12\n",
    "x = Symbol('x')\n",
    "p = exp(-( x - 10)** 2/ 2)/ sqrt( 2* pi)\n",
    "Integral(p, (x, GRADE_RANGE_LOW, GRADE_RANGE_HIGH)).doit().evalf()"
   ]
  },
  {
   "cell_type": "markdown",
   "metadata": {},
   "source": [
    "The probability for the area under the entire curve should be near 1.0"
   ]
  },
  {
   "cell_type": "code",
   "execution_count": 23,
   "metadata": {
    "collapsed": false
   },
   "outputs": [
    {
     "data": {
      "text/plain": [
       "1.00000000000000"
      ]
     },
     "execution_count": 23,
     "metadata": {},
     "output_type": "execute_result"
    }
   ],
   "source": [
    "GRADE_RANGE_LOW = S.NegativeInfinity\n",
    "GRADE_RANGE_HIGH = S.Infinity\n",
    "Integral( p, (x, GRADE_RANGE_LOW, GRADE_RANGE_HIGH)). doit(). evalf()"
   ]
  },
  {
   "cell_type": "markdown",
   "metadata": {},
   "source": [
    "# Exercises\n",
    "\n",
    "![](img/ex1a.png)\n",
    "![](img/ex1b.png)"
   ]
  },
  {
   "cell_type": "markdown",
   "metadata": {},
   "source": [
    "![](img/ex1-graph.png)"
   ]
  },
  {
   "cell_type": "code",
   "execution_count": 24,
   "metadata": {
    "collapsed": false
   },
   "outputs": [
    {
     "data": {
      "text/plain": [
       "True"
      ]
     },
     "execution_count": 24,
     "metadata": {},
     "output_type": "execute_result"
    }
   ],
   "source": [
    "x = Symbol('x')\n",
    "fx = 1/x\n",
    "lplus =  Limit(fx, x, 1, '+').doit()\n",
    "lminus = Limit(fx, x, 1, '-').doit()\n",
    "lplus == lminus"
   ]
  },
  {
   "cell_type": "code",
   "execution_count": 25,
   "metadata": {
    "collapsed": false
   },
   "outputs": [
    {
     "data": {
      "text/plain": [
       "False"
      ]
     },
     "execution_count": 25,
     "metadata": {},
     "output_type": "execute_result"
    }
   ],
   "source": [
    "x = Symbol('x')\n",
    "fx = 1/x\n",
    "lplus =  Limit(fx, x, 0, '+').doit()\n",
    "lminus = Limit(fx, x, 0, '-').doit()\n",
    "lplus == lminus"
   ]
  },
  {
   "cell_type": "markdown",
   "metadata": {},
   "source": [
    "![](img/ex2a.png)\n",
    "![](img/ex2b.png)"
   ]
  },
  {
   "cell_type": "code",
   "execution_count": 26,
   "metadata": {
    "collapsed": true
   },
   "outputs": [],
   "source": [
    "def grad_descent(x0, f1x, x):\n",
    "    epsilon = 1e-6\n",
    "    step_size = 1e-4\n",
    "    x_old = x0\n",
    "    x_new = x_old + step_size* f1x.subs({ x:x_old}).evalf()\n",
    "    while abs( x_old - x_new) > epsilon:\n",
    "        x_old = x_new\n",
    "        x_new = x_old - step_size* f1x.subs({ x:x_old}). evalf()\n",
    "    return x_new\n",
    "\n",
    "def find_min_theta(R, theta, theta0):\n",
    "    r1theta = Derivative(R, theta).doit()\n",
    "    theta_min = grad_descent(theta0, r1theta, theta)\n",
    "    return theta_min"
   ]
  },
  {
   "cell_type": "markdown",
   "metadata": {},
   "source": [
    "![](img/higher_order_deriv_graph.png)"
   ]
  },
  {
   "cell_type": "code",
   "execution_count": 27,
   "metadata": {
    "collapsed": false
   },
   "outputs": [
    {
     "name": "stdout",
     "output_type": "stream",
     "text": [
      "Theta at local min: 239.17843239\n",
      "Val @ f(theta) from gradient descent starting at 2.0 = -705.959460322146\n"
     ]
    }
   ],
   "source": [
    "START = 2.0\n",
    "x = Symbol('x')\n",
    "f = x** 5 - 30* x** 3 + 50* x\n",
    "theta_min = find_min_theta(f, x, START)\n",
    "print ('Theta at local min: {}'.format(math.degrees(theta_min)))\n",
    "print ('Val @ f(theta) from gradient descent starting at {} = {}'.format(START, f.subs({x:theta_min})))\n",
    "                           "
   ]
  },
  {
   "cell_type": "code",
   "execution_count": 28,
   "metadata": {
    "collapsed": false
   },
   "outputs": [
    {
     "name": "stdout",
     "output_type": "stream",
     "text": [
      "Theta at local min: -43.4076455232\n",
      "Val @ f(theta) from gradient descent starting at -4 = -25.0846622525346\n"
     ]
    }
   ],
   "source": [
    "START = -4\n",
    "theta_min = find_min_theta(f, x, START)\n",
    "print ('Theta at local min: {}'.format(math.degrees(theta_min)))\n",
    "print ('Val @ f(theta) from gradient descent starting at {} = {}'.format(START, f.subs({x:theta_min})))"
   ]
  },
  {
   "cell_type": "markdown",
   "metadata": {},
   "source": [
    "![](img/ex3a.png)\n",
    "![](img/ex3b.png)\n",
    "![](img/area.png)"
   ]
  },
  {
   "cell_type": "code",
   "execution_count": 32,
   "metadata": {
    "collapsed": false
   },
   "outputs": [
    {
     "data": {
      "text/plain": [
       "0.166666666666667"
      ]
     },
     "execution_count": 32,
     "metadata": {},
     "output_type": "execute_result"
    }
   ],
   "source": [
    "x = Symbol('x')\n",
    "a = 0\n",
    "b = 1\n",
    "f = x\n",
    "g = x**2\n",
    "fi = Integral(f, (x, a, b)).doit().evalf()\n",
    "gi = Integral(g, (x, a, b)).doit().evalf()\n",
    "fi - gi"
   ]
  },
  {
   "cell_type": "markdown",
   "metadata": {},
   "source": [
    "# Exercise 4\n",
    "![](img/ex4a.png)\n",
    "![](img/ex4b.png)"
   ]
  },
  {
   "cell_type": "code",
   "execution_count": 35,
   "metadata": {
    "collapsed": false
   },
   "outputs": [
    {
     "data": {
      "text/plain": [
       "268.372650946022"
      ]
     },
     "execution_count": 35,
     "metadata": {},
     "output_type": "execute_result"
    }
   ],
   "source": [
    "x = Symbol('x')\n",
    "fx = 2*x**2 + 3*x + 1\n",
    "dfx = Derivative(fx,x).doit()\n",
    "a = -5\n",
    "b = 10\n",
    "Integral(sqrt(1+ dfx**2), (x, a, b)).doit().evalf()"
   ]
  },
  {
   "cell_type": "code",
   "execution_count": null,
   "metadata": {
    "collapsed": true
   },
   "outputs": [],
   "source": []
  }
 ],
 "metadata": {
  "kernelspec": {
   "display_name": "Python 2",
   "language": "python",
   "name": "python2"
  },
  "language_info": {
   "codemirror_mode": {
    "name": "ipython",
    "version": 2
   },
   "file_extension": ".py",
   "mimetype": "text/x-python",
   "name": "python",
   "nbconvert_exporter": "python",
   "pygments_lexer": "ipython2",
   "version": "2.7.11"
  }
 },
 "nbformat": 4,
 "nbformat_minor": 0
}
